{
 "cells": [
  {
   "cell_type": "code",
   "execution_count": 1,
   "id": "8cc739dd",
   "metadata": {},
   "outputs": [],
   "source": [
    "import numpy as np\n",
    "import pandas as pd\n",
    "from matplotlib import pyplot as plt\n",
    "import seaborn as sns"
   ]
  },
  {
   "cell_type": "code",
   "execution_count": 2,
   "id": "45ef68d0",
   "metadata": {},
   "outputs": [
    {
     "name": "stdout",
     "output_type": "stream",
     "text": [
      "['Geospatial Data', 'Satellite Details', 'News Reports', 'Historical Incidents']\n"
     ]
    }
   ],
   "source": [
    "sheet_names = pd.ExcelFile(\"/Users/apple/Downloads/Assingment_Dataset.xlsx\").sheet_names\n",
    "print(sheet_names)"
   ]
  },
  {
   "cell_type": "code",
   "execution_count": 3,
   "id": "d93b3b0b",
   "metadata": {},
   "outputs": [
    {
     "data": {
      "text/html": [
       "<div>\n",
       "<style scoped>\n",
       "    .dataframe tbody tr th:only-of-type {\n",
       "        vertical-align: middle;\n",
       "    }\n",
       "\n",
       "    .dataframe tbody tr th {\n",
       "        vertical-align: top;\n",
       "    }\n",
       "\n",
       "    .dataframe thead th {\n",
       "        text-align: right;\n",
       "    }\n",
       "</style>\n",
       "<table border=\"1\" class=\"dataframe\">\n",
       "  <thead>\n",
       "    <tr style=\"text-align: right;\">\n",
       "      <th></th>\n",
       "      <th>ID</th>\n",
       "      <th>Timestamp</th>\n",
       "      <th>Latitude</th>\n",
       "      <th>Longitude</th>\n",
       "      <th>Location</th>\n",
       "      <th>Movement Type</th>\n",
       "      <th>Country</th>\n",
       "    </tr>\n",
       "  </thead>\n",
       "  <tbody>\n",
       "    <tr>\n",
       "      <th>0</th>\n",
       "      <td>1</td>\n",
       "      <td>2024-03-01 07:15:00</td>\n",
       "      <td>28.7041</td>\n",
       "      <td>77.1025</td>\n",
       "      <td>Border Post Alpha</td>\n",
       "      <td>Entry</td>\n",
       "      <td>Country A</td>\n",
       "    </tr>\n",
       "    <tr>\n",
       "      <th>1</th>\n",
       "      <td>2</td>\n",
       "      <td>2024-03-02 12:30:00</td>\n",
       "      <td>28.7042</td>\n",
       "      <td>77.1030</td>\n",
       "      <td>Border Post Alpha</td>\n",
       "      <td>Exit</td>\n",
       "      <td>Country A</td>\n",
       "    </tr>\n",
       "    <tr>\n",
       "      <th>2</th>\n",
       "      <td>3</td>\n",
       "      <td>2024-03-05 08:15:00</td>\n",
       "      <td>28.7043</td>\n",
       "      <td>77.1032</td>\n",
       "      <td>Border Post Alpha</td>\n",
       "      <td>Entry</td>\n",
       "      <td>Country A</td>\n",
       "    </tr>\n",
       "    <tr>\n",
       "      <th>3</th>\n",
       "      <td>4</td>\n",
       "      <td>2024-03-07 10:00:00</td>\n",
       "      <td>28.7044</td>\n",
       "      <td>77.1035</td>\n",
       "      <td>Border Post Alpha</td>\n",
       "      <td>Exit</td>\n",
       "      <td>Country A</td>\n",
       "    </tr>\n",
       "    <tr>\n",
       "      <th>4</th>\n",
       "      <td>5</td>\n",
       "      <td>2024-03-09 14:45:00</td>\n",
       "      <td>28.7045</td>\n",
       "      <td>77.1038</td>\n",
       "      <td>Border Post Alpha</td>\n",
       "      <td>Entry</td>\n",
       "      <td>Country A</td>\n",
       "    </tr>\n",
       "    <tr>\n",
       "      <th>5</th>\n",
       "      <td>6</td>\n",
       "      <td>2024-03-12 16:20:00</td>\n",
       "      <td>28.7046</td>\n",
       "      <td>77.1040</td>\n",
       "      <td>Border Post Bravo</td>\n",
       "      <td>Entry</td>\n",
       "      <td>Country B</td>\n",
       "    </tr>\n",
       "    <tr>\n",
       "      <th>6</th>\n",
       "      <td>7</td>\n",
       "      <td>2024-03-14 11:50:00</td>\n",
       "      <td>28.7047</td>\n",
       "      <td>77.1042</td>\n",
       "      <td>Border Post Bravo</td>\n",
       "      <td>Exit</td>\n",
       "      <td>Country B</td>\n",
       "    </tr>\n",
       "    <tr>\n",
       "      <th>7</th>\n",
       "      <td>8</td>\n",
       "      <td>2024-03-17 13:30:00</td>\n",
       "      <td>28.7048</td>\n",
       "      <td>77.1045</td>\n",
       "      <td>Border Post Bravo</td>\n",
       "      <td>Entry</td>\n",
       "      <td>Country B</td>\n",
       "    </tr>\n",
       "    <tr>\n",
       "      <th>8</th>\n",
       "      <td>9</td>\n",
       "      <td>2024-03-19 15:00:00</td>\n",
       "      <td>28.7049</td>\n",
       "      <td>77.1048</td>\n",
       "      <td>Border Post Bravo</td>\n",
       "      <td>Exit</td>\n",
       "      <td>Country B</td>\n",
       "    </tr>\n",
       "    <tr>\n",
       "      <th>9</th>\n",
       "      <td>10</td>\n",
       "      <td>2024-03-22 08:25:00</td>\n",
       "      <td>28.7050</td>\n",
       "      <td>77.1050</td>\n",
       "      <td>Border Post Bravo</td>\n",
       "      <td>Entry</td>\n",
       "      <td>Country B</td>\n",
       "    </tr>\n",
       "    <tr>\n",
       "      <th>10</th>\n",
       "      <td>11</td>\n",
       "      <td>2024-03-24 12:10:00</td>\n",
       "      <td>28.7051</td>\n",
       "      <td>77.1052</td>\n",
       "      <td>Border Post Bravo</td>\n",
       "      <td>Exit</td>\n",
       "      <td>Country B</td>\n",
       "    </tr>\n",
       "    <tr>\n",
       "      <th>11</th>\n",
       "      <td>12</td>\n",
       "      <td>2024-03-27 16:50:00</td>\n",
       "      <td>28.7052</td>\n",
       "      <td>77.1055</td>\n",
       "      <td>Border Post Charlie</td>\n",
       "      <td>Entry</td>\n",
       "      <td>Country A</td>\n",
       "    </tr>\n",
       "    <tr>\n",
       "      <th>12</th>\n",
       "      <td>13</td>\n",
       "      <td>2024-03-29 14:20:00</td>\n",
       "      <td>28.7053</td>\n",
       "      <td>77.1058</td>\n",
       "      <td>Border Post Charlie</td>\n",
       "      <td>Exit</td>\n",
       "      <td>Country B</td>\n",
       "    </tr>\n",
       "    <tr>\n",
       "      <th>13</th>\n",
       "      <td>14</td>\n",
       "      <td>2024-04-01 07:30:00</td>\n",
       "      <td>28.7054</td>\n",
       "      <td>77.1060</td>\n",
       "      <td>Border Post Charlie</td>\n",
       "      <td>Entry</td>\n",
       "      <td>Country A</td>\n",
       "    </tr>\n",
       "    <tr>\n",
       "      <th>14</th>\n",
       "      <td>15</td>\n",
       "      <td>2024-04-03 15:00:00</td>\n",
       "      <td>28.7055</td>\n",
       "      <td>77.1063</td>\n",
       "      <td>Border Post Charlie</td>\n",
       "      <td>Exit</td>\n",
       "      <td>Country B</td>\n",
       "    </tr>\n",
       "    <tr>\n",
       "      <th>15</th>\n",
       "      <td>16</td>\n",
       "      <td>2024-04-05 10:30:00</td>\n",
       "      <td>28.7056</td>\n",
       "      <td>77.1065</td>\n",
       "      <td>Border Post Charlie</td>\n",
       "      <td>Entry</td>\n",
       "      <td>Country A</td>\n",
       "    </tr>\n",
       "    <tr>\n",
       "      <th>16</th>\n",
       "      <td>17</td>\n",
       "      <td>2024-04-07 09:20:00</td>\n",
       "      <td>28.7057</td>\n",
       "      <td>77.1068</td>\n",
       "      <td>Border Post Charlie</td>\n",
       "      <td>Exit</td>\n",
       "      <td>Country B</td>\n",
       "    </tr>\n",
       "    <tr>\n",
       "      <th>17</th>\n",
       "      <td>18</td>\n",
       "      <td>2024-04-10 14:10:00</td>\n",
       "      <td>28.7058</td>\n",
       "      <td>77.1070</td>\n",
       "      <td>Border Post Delta</td>\n",
       "      <td>Entry</td>\n",
       "      <td>Country A</td>\n",
       "    </tr>\n",
       "    <tr>\n",
       "      <th>18</th>\n",
       "      <td>19</td>\n",
       "      <td>2024-04-12 12:45:00</td>\n",
       "      <td>28.7059</td>\n",
       "      <td>77.1073</td>\n",
       "      <td>Border Post Delta</td>\n",
       "      <td>Exit</td>\n",
       "      <td>Country B</td>\n",
       "    </tr>\n",
       "    <tr>\n",
       "      <th>19</th>\n",
       "      <td>20</td>\n",
       "      <td>2024-04-15 11:00:00</td>\n",
       "      <td>28.7060</td>\n",
       "      <td>77.1075</td>\n",
       "      <td>Border Post Delta</td>\n",
       "      <td>Entry</td>\n",
       "      <td>Country A</td>\n",
       "    </tr>\n",
       "    <tr>\n",
       "      <th>20</th>\n",
       "      <td>21</td>\n",
       "      <td>2024-04-17 13:30:00</td>\n",
       "      <td>28.7061</td>\n",
       "      <td>77.1078</td>\n",
       "      <td>Border Post Delta</td>\n",
       "      <td>Exit</td>\n",
       "      <td>Country B</td>\n",
       "    </tr>\n",
       "    <tr>\n",
       "      <th>21</th>\n",
       "      <td>22</td>\n",
       "      <td>2024-04-19 08:40:00</td>\n",
       "      <td>28.7062</td>\n",
       "      <td>77.1080</td>\n",
       "      <td>Border Post Delta</td>\n",
       "      <td>Entry</td>\n",
       "      <td>Country A</td>\n",
       "    </tr>\n",
       "    <tr>\n",
       "      <th>22</th>\n",
       "      <td>23</td>\n",
       "      <td>2024-04-22 07:50:00</td>\n",
       "      <td>28.7063</td>\n",
       "      <td>77.1083</td>\n",
       "      <td>Border Post Delta</td>\n",
       "      <td>Exit</td>\n",
       "      <td>Country B</td>\n",
       "    </tr>\n",
       "    <tr>\n",
       "      <th>23</th>\n",
       "      <td>24</td>\n",
       "      <td>2024-04-24 10:20:00</td>\n",
       "      <td>28.7064</td>\n",
       "      <td>77.1085</td>\n",
       "      <td>Border Post Echo</td>\n",
       "      <td>Entry</td>\n",
       "      <td>Country A</td>\n",
       "    </tr>\n",
       "    <tr>\n",
       "      <th>24</th>\n",
       "      <td>25</td>\n",
       "      <td>2024-04-27 14:30:00</td>\n",
       "      <td>28.7065</td>\n",
       "      <td>77.1088</td>\n",
       "      <td>Border Post Echo</td>\n",
       "      <td>Exit</td>\n",
       "      <td>Country B</td>\n",
       "    </tr>\n",
       "    <tr>\n",
       "      <th>25</th>\n",
       "      <td>26</td>\n",
       "      <td>2024-04-29 12:15:00</td>\n",
       "      <td>28.7066</td>\n",
       "      <td>77.1090</td>\n",
       "      <td>Border Post Echo</td>\n",
       "      <td>Entry</td>\n",
       "      <td>Country A</td>\n",
       "    </tr>\n",
       "    <tr>\n",
       "      <th>26</th>\n",
       "      <td>27</td>\n",
       "      <td>2024-05-02 09:10:00</td>\n",
       "      <td>28.7067</td>\n",
       "      <td>77.1093</td>\n",
       "      <td>Border Post Echo</td>\n",
       "      <td>Exit</td>\n",
       "      <td>Country B</td>\n",
       "    </tr>\n",
       "    <tr>\n",
       "      <th>27</th>\n",
       "      <td>28</td>\n",
       "      <td>2024-05-04 07:25:00</td>\n",
       "      <td>28.7068</td>\n",
       "      <td>77.1095</td>\n",
       "      <td>Border Post Echo</td>\n",
       "      <td>Entry</td>\n",
       "      <td>Country A</td>\n",
       "    </tr>\n",
       "    <tr>\n",
       "      <th>28</th>\n",
       "      <td>29</td>\n",
       "      <td>2024-05-07 14:40:00</td>\n",
       "      <td>28.7069</td>\n",
       "      <td>77.1098</td>\n",
       "      <td>Border Post Echo</td>\n",
       "      <td>Exit</td>\n",
       "      <td>Country B</td>\n",
       "    </tr>\n",
       "    <tr>\n",
       "      <th>29</th>\n",
       "      <td>30</td>\n",
       "      <td>2024-05-09 08:55:00</td>\n",
       "      <td>28.7070</td>\n",
       "      <td>77.1100</td>\n",
       "      <td>Border Post Echo</td>\n",
       "      <td>Entry</td>\n",
       "      <td>Country A</td>\n",
       "    </tr>\n",
       "  </tbody>\n",
       "</table>\n",
       "</div>"
      ],
      "text/plain": [
       "    ID           Timestamp  Latitude  Longitude             Location  \\\n",
       "0    1 2024-03-01 07:15:00   28.7041    77.1025    Border Post Alpha   \n",
       "1    2 2024-03-02 12:30:00   28.7042    77.1030    Border Post Alpha   \n",
       "2    3 2024-03-05 08:15:00   28.7043    77.1032    Border Post Alpha   \n",
       "3    4 2024-03-07 10:00:00   28.7044    77.1035    Border Post Alpha   \n",
       "4    5 2024-03-09 14:45:00   28.7045    77.1038    Border Post Alpha   \n",
       "5    6 2024-03-12 16:20:00   28.7046    77.1040    Border Post Bravo   \n",
       "6    7 2024-03-14 11:50:00   28.7047    77.1042    Border Post Bravo   \n",
       "7    8 2024-03-17 13:30:00   28.7048    77.1045    Border Post Bravo   \n",
       "8    9 2024-03-19 15:00:00   28.7049    77.1048    Border Post Bravo   \n",
       "9   10 2024-03-22 08:25:00   28.7050    77.1050    Border Post Bravo   \n",
       "10  11 2024-03-24 12:10:00   28.7051    77.1052    Border Post Bravo   \n",
       "11  12 2024-03-27 16:50:00   28.7052    77.1055  Border Post Charlie   \n",
       "12  13 2024-03-29 14:20:00   28.7053    77.1058  Border Post Charlie   \n",
       "13  14 2024-04-01 07:30:00   28.7054    77.1060  Border Post Charlie   \n",
       "14  15 2024-04-03 15:00:00   28.7055    77.1063  Border Post Charlie   \n",
       "15  16 2024-04-05 10:30:00   28.7056    77.1065  Border Post Charlie   \n",
       "16  17 2024-04-07 09:20:00   28.7057    77.1068  Border Post Charlie   \n",
       "17  18 2024-04-10 14:10:00   28.7058    77.1070    Border Post Delta   \n",
       "18  19 2024-04-12 12:45:00   28.7059    77.1073    Border Post Delta   \n",
       "19  20 2024-04-15 11:00:00   28.7060    77.1075    Border Post Delta   \n",
       "20  21 2024-04-17 13:30:00   28.7061    77.1078    Border Post Delta   \n",
       "21  22 2024-04-19 08:40:00   28.7062    77.1080    Border Post Delta   \n",
       "22  23 2024-04-22 07:50:00   28.7063    77.1083    Border Post Delta   \n",
       "23  24 2024-04-24 10:20:00   28.7064    77.1085     Border Post Echo   \n",
       "24  25 2024-04-27 14:30:00   28.7065    77.1088     Border Post Echo   \n",
       "25  26 2024-04-29 12:15:00   28.7066    77.1090     Border Post Echo   \n",
       "26  27 2024-05-02 09:10:00   28.7067    77.1093     Border Post Echo   \n",
       "27  28 2024-05-04 07:25:00   28.7068    77.1095     Border Post Echo   \n",
       "28  29 2024-05-07 14:40:00   28.7069    77.1098     Border Post Echo   \n",
       "29  30 2024-05-09 08:55:00   28.7070    77.1100     Border Post Echo   \n",
       "\n",
       "   Movement Type    Country  \n",
       "0          Entry  Country A  \n",
       "1           Exit  Country A  \n",
       "2          Entry  Country A  \n",
       "3           Exit  Country A  \n",
       "4          Entry  Country A  \n",
       "5          Entry  Country B  \n",
       "6           Exit  Country B  \n",
       "7          Entry  Country B  \n",
       "8           Exit  Country B  \n",
       "9          Entry  Country B  \n",
       "10          Exit  Country B  \n",
       "11         Entry  Country A  \n",
       "12          Exit  Country B  \n",
       "13         Entry  Country A  \n",
       "14          Exit  Country B  \n",
       "15         Entry  Country A  \n",
       "16          Exit  Country B  \n",
       "17         Entry  Country A  \n",
       "18          Exit  Country B  \n",
       "19         Entry  Country A  \n",
       "20          Exit  Country B  \n",
       "21         Entry  Country A  \n",
       "22          Exit  Country B  \n",
       "23         Entry  Country A  \n",
       "24          Exit  Country B  \n",
       "25         Entry  Country A  \n",
       "26          Exit  Country B  \n",
       "27         Entry  Country A  \n",
       "28          Exit  Country B  \n",
       "29         Entry  Country A  "
      ]
     },
     "execution_count": 3,
     "metadata": {},
     "output_type": "execute_result"
    }
   ],
   "source": [
    "data = pd.read_excel(\"/Users/apple/Downloads/Assingment_Dataset.xlsx\", sheet_name='Geospatial Data')\n",
    "data\n"
   ]
  },
  {
   "cell_type": "code",
   "execution_count": 4,
   "id": "c89d481e",
   "metadata": {},
   "outputs": [
    {
     "data": {
      "text/plain": [
       "210"
      ]
     },
     "execution_count": 4,
     "metadata": {},
     "output_type": "execute_result"
    }
   ],
   "source": [
    "data.size"
   ]
  },
  {
   "cell_type": "code",
   "execution_count": 5,
   "id": "996ef257",
   "metadata": {},
   "outputs": [
    {
     "data": {
      "text/plain": [
       "ID               0\n",
       "Timestamp        0\n",
       "Latitude         0\n",
       "Longitude        0\n",
       "Location         0\n",
       "Movement Type    0\n",
       "Country          0\n",
       "dtype: int64"
      ]
     },
     "execution_count": 5,
     "metadata": {},
     "output_type": "execute_result"
    }
   ],
   "source": [
    "data.isnull().sum()"
   ]
  },
  {
   "cell_type": "code",
   "execution_count": 6,
   "id": "a197913a",
   "metadata": {},
   "outputs": [
    {
     "data": {
      "text/plain": [
       "Index(['ID', 'Timestamp', 'Latitude', 'Longitude', 'Location', 'Movement Type',\n",
       "       'Country'],\n",
       "      dtype='object')"
      ]
     },
     "execution_count": 6,
     "metadata": {},
     "output_type": "execute_result"
    }
   ],
   "source": [
    "data.columns"
   ]
  },
  {
   "cell_type": "code",
   "execution_count": 7,
   "id": "8a140790",
   "metadata": {},
   "outputs": [
    {
     "data": {
      "text/html": [
       "<div>\n",
       "<style scoped>\n",
       "    .dataframe tbody tr th:only-of-type {\n",
       "        vertical-align: middle;\n",
       "    }\n",
       "\n",
       "    .dataframe tbody tr th {\n",
       "        vertical-align: top;\n",
       "    }\n",
       "\n",
       "    .dataframe thead th {\n",
       "        text-align: right;\n",
       "    }\n",
       "</style>\n",
       "<table border=\"1\" class=\"dataframe\">\n",
       "  <thead>\n",
       "    <tr style=\"text-align: right;\">\n",
       "      <th></th>\n",
       "      <th>ID</th>\n",
       "      <th>Latitude</th>\n",
       "      <th>Longitude</th>\n",
       "    </tr>\n",
       "  </thead>\n",
       "  <tbody>\n",
       "    <tr>\n",
       "      <th>count</th>\n",
       "      <td>30.000000</td>\n",
       "      <td>30.000000</td>\n",
       "      <td>30.000000</td>\n",
       "    </tr>\n",
       "    <tr>\n",
       "      <th>mean</th>\n",
       "      <td>15.500000</td>\n",
       "      <td>28.705550</td>\n",
       "      <td>77.106380</td>\n",
       "    </tr>\n",
       "    <tr>\n",
       "      <th>std</th>\n",
       "      <td>8.803408</td>\n",
       "      <td>0.000880</td>\n",
       "      <td>0.002227</td>\n",
       "    </tr>\n",
       "    <tr>\n",
       "      <th>min</th>\n",
       "      <td>1.000000</td>\n",
       "      <td>28.704100</td>\n",
       "      <td>77.102500</td>\n",
       "    </tr>\n",
       "    <tr>\n",
       "      <th>25%</th>\n",
       "      <td>8.250000</td>\n",
       "      <td>28.704825</td>\n",
       "      <td>77.104575</td>\n",
       "    </tr>\n",
       "    <tr>\n",
       "      <th>50%</th>\n",
       "      <td>15.500000</td>\n",
       "      <td>28.705550</td>\n",
       "      <td>77.106400</td>\n",
       "    </tr>\n",
       "    <tr>\n",
       "      <th>75%</th>\n",
       "      <td>22.750000</td>\n",
       "      <td>28.706275</td>\n",
       "      <td>77.108225</td>\n",
       "    </tr>\n",
       "    <tr>\n",
       "      <th>max</th>\n",
       "      <td>30.000000</td>\n",
       "      <td>28.707000</td>\n",
       "      <td>77.110000</td>\n",
       "    </tr>\n",
       "  </tbody>\n",
       "</table>\n",
       "</div>"
      ],
      "text/plain": [
       "              ID   Latitude  Longitude\n",
       "count  30.000000  30.000000  30.000000\n",
       "mean   15.500000  28.705550  77.106380\n",
       "std     8.803408   0.000880   0.002227\n",
       "min     1.000000  28.704100  77.102500\n",
       "25%     8.250000  28.704825  77.104575\n",
       "50%    15.500000  28.705550  77.106400\n",
       "75%    22.750000  28.706275  77.108225\n",
       "max    30.000000  28.707000  77.110000"
      ]
     },
     "execution_count": 7,
     "metadata": {},
     "output_type": "execute_result"
    }
   ],
   "source": [
    "data.describe()"
   ]
  },
  {
   "cell_type": "code",
   "execution_count": 8,
   "id": "c95cf7ee",
   "metadata": {},
   "outputs": [
    {
     "name": "stdout",
     "output_type": "stream",
     "text": [
      "<class 'pandas.core.frame.DataFrame'>\n",
      "RangeIndex: 30 entries, 0 to 29\n",
      "Data columns (total 7 columns):\n",
      " #   Column         Non-Null Count  Dtype         \n",
      "---  ------         --------------  -----         \n",
      " 0   ID             30 non-null     int64         \n",
      " 1   Timestamp      30 non-null     datetime64[ns]\n",
      " 2   Latitude       30 non-null     float64       \n",
      " 3   Longitude      30 non-null     float64       \n",
      " 4   Location       30 non-null     object        \n",
      " 5   Movement Type  30 non-null     object        \n",
      " 6   Country        30 non-null     object        \n",
      "dtypes: datetime64[ns](1), float64(2), int64(1), object(3)\n",
      "memory usage: 1.8+ KB\n"
     ]
    }
   ],
   "source": [
    "data.info()"
   ]
  },
  {
   "cell_type": "code",
   "execution_count": 9,
   "id": "8efe201e",
   "metadata": {},
   "outputs": [],
   "source": [
    "import folium\n",
    "from folium.plugins import HeatMap\n",
    "\n",
    "# Create a base map\n",
    "m = folium.Map(location=[28.705, 77.106], zoom_start=10)\n",
    "\n",
    "# Add heat map layer\n",
    "heat_data = [[row['Latitude'], row['Longitude']] for index, row in data.iterrows()]\n",
    "HeatMap(heat_data).add_to(m)\n",
    "\n",
    "# Save the map\n",
    "m.save(\"heatmap.html\")"
   ]
  },
  {
   "cell_type": "code",
   "execution_count": 10,
   "id": "1d9d5454",
   "metadata": {},
   "outputs": [
    {
     "name": "stdout",
     "output_type": "stream",
     "text": [
      "Movement Type        Entry  Exit\n",
      "Location                        \n",
      "Border Post Alpha        3     2\n",
      "Border Post Bravo        3     3\n",
      "Border Post Charlie      3     3\n",
      "Border Post Delta        3     3\n",
      "Border Post Echo         4     3\n"
     ]
    }
   ],
   "source": [
    "# Count entries and exits per border post\n",
    "border_post_counts = data.groupby(['Location', 'Movement Type']).size().unstack(fill_value=0)\n",
    "print(border_post_counts)"
   ]
  },
  {
   "cell_type": "code",
   "execution_count": 11,
   "id": "79e75f4b",
   "metadata": {},
   "outputs": [
    {
     "data": {
      "image/png": "[encoded data removed]",
      "text/plain": [
       "<Figure size 640x480 with 1 Axes>"
      ]
     },
     "metadata": {},
     "output_type": "display_data"
    }
   ],
   "source": [
    " border_post_counts.plot(kind='bar', stacked=True)\n",
    "plt.title('Number of Entries and Exits by Location')\n",
    "plt.xlabel('Location')\n",
    "plt.ylabel('Number of Movements')\n",
    "plt.show()"
   ]
  },
  {
   "cell_type": "code",
   "execution_count": 12,
   "id": "f7c98a08",
   "metadata": {},
   "outputs": [
    {
     "name": "stdout",
     "output_type": "stream",
     "text": [
      "Country A    15\n",
      "Country B    15\n",
      "Name: Country, dtype: int64\n"
     ]
    }
   ],
   "source": [
    "# Calculate the number of movements per country\n",
    "country_counts = data['Country'].value_counts()\n",
    "print(country_counts)"
   ]
  },
  {
   "cell_type": "code",
   "execution_count": 13,
   "id": "b6b886bb",
   "metadata": {},
   "outputs": [
    {
     "data": {
      "image/png": "[encoded data removed]",
      "text/plain": [
       "<Figure size 640x480 with 1 Axes>"
      ]
     },
     "metadata": {},
     "output_type": "display_data"
    }
   ],
   "source": [
    "data.groupby('Location').size().plot(kind='barh', color=sns.palettes.mpl_palette('Dark2'))\n",
    "plt.gca().spines[['top', 'right',]].set_visible(False)"
   ]
  },
  {
   "cell_type": "code",
   "execution_count": 14,
   "id": "3845d8d3",
   "metadata": {},
   "outputs": [
    {
     "data": {
      "image/png": "[encoded data removed]",
      "text/plain": [
       "<Figure size 640x480 with 1 Axes>"
      ]
     },
     "metadata": {},
     "output_type": "display_data"
    }
   ],
   "source": [
    "data.groupby('Movement Type').size().plot(kind='barh', color=sns.palettes.mpl_palette('Dark2'))\n",
    "plt.gca().spines[['top', 'right',]].set_visible(False)"
   ]
  },
  {
   "cell_type": "code",
   "execution_count": 15,
   "id": "dc980eb1",
   "metadata": {},
   "outputs": [
    {
     "data": {
      "image/png": "[encoded data removed]",
      "text/plain": [
       "<Figure size 400x400 with 2 Axes>"
      ]
     },
     "metadata": {},
     "output_type": "display_data"
    }
   ],
   "source": [
    "plt.subplots(figsize=(4, 4))\n",
    "df_2dhist = pd.DataFrame({\n",
    "    x_label: grp['Movement Type'].value_counts()\n",
    "    for x_label, grp in data.groupby('Location')\n",
    "})\n",
    "sns.heatmap(df_2dhist, cmap='viridis')\n",
    "plt.xlabel('Location')\n",
    "_ = plt.ylabel('Movement Type')"
   ]
  },
  {
   "cell_type": "code",
   "execution_count": 19,
   "id": "ebaed854",
   "metadata": {},
   "outputs": [
    {
     "data": {
      "image/png": "[encoded data removed]",
      "text/plain": [
       "<Figure size 400x400 with 2 Axes>"
      ]
     },
     "metadata": {},
     "output_type": "display_data"
    }
   ],
   "source": [
    "plt.subplots(figsize=(4, 4))\n",
    "df_2dhist = pd.DataFrame({\n",
    "    x_label: grp['Country'].value_counts()\n",
    "    for x_label, grp in data.groupby('Movement Type')\n",
    "})\n",
    "sns.heatmap(df_2dhist, cmap='viridis')\n",
    "plt.xlabel('Movement Type')\n",
    "_ = plt.ylabel('Country')"
   ]
  },
  {
   "cell_type": "code",
   "execution_count": 20,
   "id": "05225cc5",
   "metadata": {},
   "outputs": [
    {
     "data": {
      "image/png": "[encoded data removed]",
      "text/plain": [
       "<Figure size 1000x500 with 1 Axes>"
      ]
     },
     "metadata": {},
     "output_type": "display_data"
    }
   ],
   "source": [
    "# Plot geospatial data using matplotlib\n",
    "plt.figure(figsize=(10, 5))\n",
    "plt.scatter(data['Longitude'], data['Latitude'], c='blue', s=10, alpha=0.5)\n",
    "plt.title('Geospatial Data Visualization')\n",
    "plt.xlabel('Longitude')\n",
    "plt.ylabel('Latitude')\n",
    "plt.show()"
   ]
  },
  {
   "cell_type": "code",
   "execution_count": 18,
   "id": "39a46d9b",
   "metadata": {},
   "outputs": [
    {
     "data": {
      "text/html": [
       "<div style=\"width:100%;\"><div style=\"position:relative;width:100%;height:0;padding-bottom:60%;\"><span style=\"color:#565656\">Make this Notebook Trusted to load map: File -> Trust Notebook</span><iframe srcdoc=\"&lt;!DOCTYPE html&gt;\n",
       "&lt;html&gt;\n",
       "&lt;head&gt;\n",
       "    \n",
       "    &lt;meta http-equiv=&quot;content-type&quot; content=&quot;text/html; charset=UTF-8&quot; /&gt;\n",
       "    \n",
       "        &lt;script&gt;\n",
       "            L_NO_TOUCH = false;\n",
       "            L_DISABLE_3D = false;\n",
       "        &lt;/script&gt;\n",
       "    \n",
       "    &lt;style&gt;html, body {width: 100%;height: 100%;margin: 0;padding: 0;}&lt;/style&gt;\n",
       "    &lt;style&gt;#map {position:absolute;top:0;bottom:0;right:0;left:0;}&lt;/style&gt;\n",
       "    &lt;script src=&quot;https://cdn.jsdelivr.net/npm/leaflet@1.9.3/dist/leaflet.js&quot;&gt;&lt;/script&gt;\n",
       "    &lt;script src=&quot;https://code.jquery.com/jquery-3.7.1.min.js&quot;&gt;&lt;/script&gt;\n",
       "    &lt;script src=&quot;https://cdn.jsdelivr.net/npm/bootstrap@5.2.2/dist/js/bootstrap.bundle.min.js&quot;&gt;&lt;/script&gt;\n",
       "    &lt;script src=&quot;https://cdnjs.cloudflare.com/ajax/libs/Leaflet.awesome-markers/2.0.2/leaflet.awesome-markers.js&quot;&gt;&lt;/script&gt;\n",
       "    &lt;link rel=&quot;stylesheet&quot; href=&quot;https://cdn.jsdelivr.net/npm/leaflet@1.9.3/dist/leaflet.css&quot;/&gt;\n",
       "    &lt;link rel=&quot;stylesheet&quot; href=&quot;https://cdn.jsdelivr.net/npm/bootstrap@5.2.2/dist/css/bootstrap.min.css&quot;/&gt;\n",
       "    &lt;link rel=&quot;stylesheet&quot; href=&quot;https://netdna.bootstrapcdn.com/bootstrap/3.0.0/css/bootstrap-glyphicons.css&quot;/&gt;\n",
       "    &lt;link rel=&quot;stylesheet&quot; href=&quot;https://cdn.jsdelivr.net/npm/@fortawesome/fontawesome-free@6.2.0/css/all.min.css&quot;/&gt;\n",
       "    &lt;link rel=&quot;stylesheet&quot; href=&quot;https://cdnjs.cloudflare.com/ajax/libs/Leaflet.awesome-markers/2.0.2/leaflet.awesome-markers.css&quot;/&gt;\n",
       "    &lt;link rel=&quot;stylesheet&quot; href=&quot;https://cdn.jsdelivr.net/gh/python-visualization/folium/folium/templates/leaflet.awesome.rotate.min.css&quot;/&gt;\n",
       "    \n",
       "            &lt;meta name=&quot;viewport&quot; content=&quot;width=device-width,\n",
       "                initial-scale=1.0, maximum-scale=1.0, user-scalable=no&quot; /&gt;\n",
       "            &lt;style&gt;\n",
       "                #map_a1943c5c8a46d9d719d6c7f6a17546ca {\n",
       "                    position: relative;\n",
       "                    width: 100.0%;\n",
       "                    height: 100.0%;\n",
       "                    left: 0.0%;\n",
       "                    top: 0.0%;\n",
       "                }\n",
       "                .leaflet-container { font-size: 1rem; }\n",
       "            &lt;/style&gt;\n",
       "        \n",
       "    &lt;script src=&quot;https://cdn.jsdelivr.net/gh/python-visualization/folium@main/folium/templates/leaflet_heat.min.js&quot;&gt;&lt;/script&gt;\n",
       "&lt;/head&gt;\n",
       "&lt;body&gt;\n",
       "    \n",
       "    \n",
       "            &lt;div class=&quot;folium-map&quot; id=&quot;map_a1943c5c8a46d9d719d6c7f6a17546ca&quot; &gt;&lt;/div&gt;\n",
       "        \n",
       "&lt;/body&gt;\n",
       "&lt;script&gt;\n",
       "    \n",
       "    \n",
       "            var map_a1943c5c8a46d9d719d6c7f6a17546ca = L.map(\n",
       "                &quot;map_a1943c5c8a46d9d719d6c7f6a17546ca&quot;,\n",
       "                {\n",
       "                    center: [28.70555, 77.10638],\n",
       "                    crs: L.CRS.EPSG3857,\n",
       "                    zoom: 10,\n",
       "                    zoomControl: true,\n",
       "                    preferCanvas: false,\n",
       "                }\n",
       "            );\n",
       "\n",
       "            \n",
       "\n",
       "        \n",
       "    \n",
       "            var tile_layer_963655903da929e73774d2461cb5d214 = L.tileLayer(\n",
       "                &quot;https://tile.openstreetmap.org/{z}/{x}/{y}.png&quot;,\n",
       "                {&quot;attribution&quot;: &quot;\\u0026copy; \\u003ca href=\\&quot;https://www.openstreetmap.org/copyright\\&quot;\\u003eOpenStreetMap\\u003c/a\\u003e contributors&quot;, &quot;detectRetina&quot;: false, &quot;maxNativeZoom&quot;: 19, &quot;maxZoom&quot;: 19, &quot;minZoom&quot;: 0, &quot;noWrap&quot;: false, &quot;opacity&quot;: 1, &quot;subdomains&quot;: &quot;abc&quot;, &quot;tms&quot;: false}\n",
       "            );\n",
       "        \n",
       "    \n",
       "            tile_layer_963655903da929e73774d2461cb5d214.addTo(map_a1943c5c8a46d9d719d6c7f6a17546ca);\n",
       "        \n",
       "    \n",
       "            var heat_map_11fa32e07a50fa7e2df5178601e332eb = L.heatLayer(\n",
       "                [[28.7041, 77.1025], [28.7042, 77.103], [28.7043, 77.1032], [28.7044, 77.1035], [28.7045, 77.1038], [28.7046, 77.104], [28.7047, 77.1042], [28.7048, 77.1045], [28.7049, 77.1048], [28.705, 77.105], [28.7051, 77.1052], [28.7052, 77.1055], [28.7053, 77.1058], [28.7054, 77.106], [28.7055, 77.1063], [28.7056, 77.1065], [28.7057, 77.1068], [28.7058, 77.107], [28.7059, 77.1073], [28.706, 77.1075], [28.7061, 77.1078], [28.7062, 77.108], [28.7063, 77.1083], [28.7064, 77.1085], [28.7065, 77.1088], [28.7066, 77.109], [28.7067, 77.1093], [28.7068, 77.1095], [28.7069, 77.1098], [28.707, 77.11]],\n",
       "                {&quot;blur&quot;: 15, &quot;maxZoom&quot;: 18, &quot;minOpacity&quot;: 0.5, &quot;radius&quot;: 25}\n",
       "            );\n",
       "        \n",
       "    \n",
       "            heat_map_11fa32e07a50fa7e2df5178601e332eb.addTo(map_a1943c5c8a46d9d719d6c7f6a17546ca);\n",
       "        \n",
       "    \n",
       "            tile_layer_963655903da929e73774d2461cb5d214.addTo(map_a1943c5c8a46d9d719d6c7f6a17546ca);\n",
       "        \n",
       "    \n",
       "            heat_map_11fa32e07a50fa7e2df5178601e332eb.addTo(map_a1943c5c8a46d9d719d6c7f6a17546ca);\n",
       "        \n",
       "&lt;/script&gt;\n",
       "&lt;/html&gt;\" style=\"position:absolute;width:100%;height:100%;left:0;top:0;border:none !important;\" allowfullscreen webkitallowfullscreen mozallowfullscreen></iframe></div></div>"
      ],
      "text/plain": [
       "<folium.folium.Map at 0x7fefd67cc550>"
      ]
     },
     "execution_count": 18,
     "metadata": {},
     "output_type": "execute_result"
    }
   ],
   "source": [
    "# Create a heatmap using Folium\n",
    "# Initialize a map centered around the average location\n",
    "center_lat = data['Latitude'].mean()\n",
    "center_lon = data['Longitude'].mean()\n",
    "map_obj = folium.Map(location=[center_lat, center_lon], zoom_start=10)\n",
    "# Prepare the data for HeatMap\n",
    "heat_data = data[['Latitude', 'Longitude']].values.tolist()\n",
    "\n",
    "# Add HeatMap layer\n",
    "HeatMap(heat_data).add_to(map_obj)\n",
    "\n",
    "# Save the heatmap as an HTML file\n",
    "map_obj.save('heatmap.html')\n",
    "map_obj"
   ]
  },
  {
   "cell_type": "code",
   "execution_count": null,
   "id": "7626f6ef",
   "metadata": {},
   "outputs": [],
   "source": []
  }
 ],
 "metadata": {
  "kernelspec": {
   "display_name": "Python 3 (ipykernel)",
   "language": "python",
   "name": "python3"
  },
  "language_info": {
   "codemirror_mode": {
    "name": "ipython",
    "version": 3
   },
   "file_extension": ".py",
   "mimetype": "text/x-python",
   "name": "python",
   "nbconvert_exporter": "python",
   "pygments_lexer": "ipython3",
   "version": "3.9.13"
  }
 },
 "nbformat": 4,
 "nbformat_minor": 5
}
